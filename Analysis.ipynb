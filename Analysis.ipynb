{
 "cells": [
  {
   "cell_type": "code",
   "execution_count": 1,
   "metadata": {},
   "outputs": [],
   "source": [
    "from backpack_state import Backpack\n",
    "from offspring import Offsrping\n",
    "import numpy as np"
   ]
  },
  {
   "cell_type": "code",
   "execution_count": 215,
   "metadata": {},
   "outputs": [
    {
     "name": "stdout",
     "output_type": "stream",
     "text": [
      "Starting state\n",
      "Metrics = 100 State([1 1 1 1 1 1 0 0 1 0 0 0])\n",
      "Metrics = 77 State([1 1 0 0 1 1 0 0 0 0 1 0])\n",
      "Metrics = 83 State([0 0 1 0 1 0 1 0 0 1 1 0])\n",
      "Metrics = 104 State([1 1 1 0 1 0 0 1 0 1 1 0])\n",
      "Metrics = 60 State([0 1 0 0 0 0 0 1 0 1 0 1])\n",
      "Metrics = 124 State([1 0 1 1 1 0 1 1 0 0 1 1])\n",
      "Metrics = 139 State([0 1 0 1 1 1 1 1 0 1 1 1])\n",
      "Metrics = 63 State([0 1 1 1 1 0 0 1 0 0 0 0])\n",
      "Metrics = 102 State([0 0 0 0 0 0 1 1 1 1 1 1])\n",
      "Metrics = 133 State([1 0 0 1 0 1 1 1 1 0 1 1])\n",
      "Metrics = 85 State([0 1 1 0 0 0 0 1 1 0 1 0])\n",
      "Metrics = 116 State([1 0 1 0 0 1 0 1 1 0 1 0])\n",
      "Metrics = 48 State([0 0 1 1 0 0 0 1 0 0 0 0])\n",
      "Metrics = 79 State([1 0 1 1 1 1 0 0 0 0 0 0])\n",
      "Metrics = 41 State([0 1 0 0 1 0 1 1 0 0 0 0])\n",
      "\n",
      "Iteration #1\n",
      "\n",
      "Metrics = 79 State([1 0 1 1 1 1 0 0 0 0 0 0])\n",
      "Metrics = 85 State([0 1 1 0 0 0 0 1 1 0 1 0])\n",
      "Metrics = 89 State([1 1 1 0 1 0 0 0 0 1 1 0])\n",
      "Metrics = 91 State([0 0 1 1 1 0 1 0 0 1 1 0])\n",
      "Metrics = 91 State([0 1 1 1 1 1 0 1 0 0 0 0])\n",
      "Metrics = 100 State([1 1 1 1 1 1 0 0 1 0 0 0])\n",
      "Metrics = 105 State([0 0 0 0 0 1 0 1 0 1 1 1])\n",
      "Metrics = 108 State([0 0 0 1 1 1 1 1 1 0 1 0])\n",
      "Metrics = 110 State([1 0 0 0 0 1 1 0 1 0 1 1])\n",
      "Metrics = 112 State([1 0 0 0 0 0 1 1 1 1 1 1])\n",
      "Metrics = 115 State([0 0 0 0 0 1 1 1 1 0 1 1])\n",
      "Metrics = 116 State([1 0 1 0 0 1 0 1 1 0 1 0])\n",
      "Metrics = 121 State([0 1 1 1 1 0 1 1 0 0 1 1])\n",
      "Metrics = 126 State([0 0 1 0 0 1 1 1 0 0 1 1])\n",
      "Metrics = 127 State([1 0 1 0 0 1 1 0 1 1 1 0])\n",
      "\n",
      "Iteration #2\n",
      "\n",
      "Metrics = 94 State([0 0 1 1 1 0 0 1 1 0 1 0])\n",
      "Metrics = 97 State([0 0 1 1 0 0 1 0 1 1 1 0])\n",
      "Metrics = 100 State([1 1 1 1 1 1 0 0 1 0 0 0])\n",
      "Metrics = 100 State([1 0 0 1 0 1 0 1 0 1 1 0])\n",
      "Metrics = 105 State([0 0 0 0 0 1 0 1 0 1 1 1])\n",
      "Metrics = 106 State([0 1 1 1 1 0 1 0 0 0 1 1])\n",
      "Metrics = 108 State([0 0 0 1 1 1 1 1 1 0 1 0])\n",
      "Metrics = 110 State([1 0 0 0 0 1 1 0 1 0 1 1])\n",
      "Metrics = 112 State([1 0 0 0 0 0 1 1 1 1 1 1])\n",
      "Metrics = 115 State([0 0 0 0 0 1 1 1 1 0 1 1])\n",
      "Metrics = 115 State([0 0 0 0 0 1 1 1 1 0 1 1])\n",
      "Metrics = 116 State([1 0 1 0 0 1 0 1 1 0 1 0])\n",
      "Metrics = 126 State([0 0 1 0 0 1 1 1 0 0 1 1])\n",
      "Metrics = 127 State([1 0 1 0 0 1 1 0 1 1 1 0])\n",
      "Metrics = 128 State([1 0 1 0 0 1 1 1 0 1 1 0])\n",
      "\n",
      "Iteration #3\n",
      "\n",
      "Metrics = 105 State([0 0 0 0 0 1 0 1 0 1 1 1])\n",
      "Metrics = 105 State([0 0 0 0 0 1 0 1 0 1 1 1])\n",
      "Metrics = 106 State([0 1 1 1 1 0 1 0 0 0 1 1])\n",
      "Metrics = 106 State([0 0 1 0 0 1 0 1 1 0 1 0])\n",
      "Metrics = 108 State([0 0 0 1 1 1 1 1 1 0 1 0])\n",
      "Metrics = 110 State([1 0 0 0 0 1 1 0 1 0 1 1])\n",
      "Metrics = 112 State([1 0 0 0 0 0 1 1 1 1 1 1])\n",
      "Metrics = 115 State([0 0 0 0 0 1 1 1 1 0 1 1])\n",
      "Metrics = 115 State([0 0 0 0 0 1 1 1 1 0 1 1])\n",
      "Metrics = 115 State([0 0 0 1 0 1 1 1 1 1 1 0])\n",
      "Metrics = 117 State([1 0 0 0 0 1 1 1 1 1 1 0])\n",
      "Metrics = 123 State([0 0 0 1 0 1 1 1 1 0 1 1])\n",
      "Metrics = 126 State([0 0 1 0 0 1 1 1 0 0 1 1])\n",
      "Metrics = 128 State([1 0 1 0 0 1 1 1 0 1 1 0])\n",
      "Metrics = 132 State([0 0 1 0 0 1 1 1 1 1 1 0])\n",
      "\n",
      "Iteration #4\n",
      "\n",
      "Metrics = 108 State([0 0 0 1 1 1 1 1 1 0 1 0])\n",
      "Metrics = 110 State([1 0 0 0 0 1 1 0 1 0 1 1])\n",
      "Metrics = 112 State([1 0 0 0 0 0 1 1 1 1 1 1])\n",
      "Metrics = 113 State([0 1 1 0 0 1 0 1 1 0 1 0])\n",
      "Metrics = 115 State([0 0 0 0 0 1 1 1 1 0 1 1])\n",
      "Metrics = 115 State([0 0 0 0 0 1 1 1 1 0 1 1])\n",
      "Metrics = 115 State([0 0 0 1 0 1 1 1 1 1 1 0])\n",
      "Metrics = 115 State([0 0 0 0 0 1 1 1 1 0 1 1])\n",
      "Metrics = 117 State([1 0 0 0 0 1 1 1 1 1 1 0])\n",
      "Metrics = 117 State([1 0 0 0 0 1 1 1 1 1 1 0])\n",
      "Metrics = 123 State([0 0 0 1 0 1 1 1 1 0 1 1])\n",
      "Metrics = 123 State([0 0 0 1 0 1 1 1 1 0 1 1])\n",
      "Metrics = 124 State([1 0 1 0 0 1 0 0 1 0 1 1])\n",
      "Metrics = 126 State([0 0 1 0 0 1 1 1 0 0 1 1])\n",
      "Metrics = 132 State([0 0 1 0 0 1 1 1 1 1 1 0])\n",
      "\n",
      "Iteration #5\n",
      "\n",
      "Metrics = 112 State([0 0 0 1 0 1 0 1 1 0 1 1])\n",
      "Metrics = 113 State([0 1 1 0 0 1 0 1 1 0 1 0])\n",
      "Metrics = 113 State([1 0 1 0 0 1 1 1 0 0 1 0])\n",
      "Metrics = 115 State([0 0 0 0 0 1 1 1 1 0 1 1])\n",
      "Metrics = 115 State([0 0 0 1 0 1 1 1 1 1 1 0])\n",
      "Metrics = 115 State([0 0 0 0 0 1 1 1 1 0 1 1])\n",
      "Metrics = 115 State([0 0 0 0 0 1 1 1 1 0 1 1])\n",
      "Metrics = 117 State([1 0 0 0 0 1 1 1 1 1 1 0])\n",
      "Metrics = 117 State([1 0 0 0 0 1 1 1 1 1 1 0])\n",
      "Metrics = 123 State([0 0 0 1 0 1 1 1 1 0 1 1])\n",
      "Metrics = 124 State([1 0 1 0 0 1 0 0 1 0 1 1])\n",
      "Metrics = 126 State([0 0 1 0 0 1 1 1 0 0 1 1])\n",
      "Metrics = 129 State([0 0 1 0 0 1 0 1 1 0 1 1])\n",
      "Metrics = 129 State([0 0 1 0 0 1 0 1 1 0 1 1])\n",
      "Metrics = 132 State([0 0 1 0 0 1 1 1 1 1 1 0])\n",
      "\n"
     ]
    }
   ],
   "source": [
    "P = np.array([10, 7, 25, 8, 8, 28, 11, 15, 14, 15, 24, 23])\n",
    "W = np.array([8, 5, 6, 1, 15, 18, 6, 10, 7, 12, 9, 18])\n",
    "w = 70\n",
    "N = 15\n",
    "\n",
    "\n",
    "backpack = Backpack(W, P, w, N)\n",
    "backpack.initial_generate_offsprings()\n",
    "# for i in backpack.offsprings:\n",
    "#     print(i.get_weight(backpack.W), end=' ')\n",
    "print('Starting state')\n",
    "print(backpack)\n",
    "\n",
    "for i in range(5):\n",
    "    backpack.generate_offsprings()\n",
    "\n",
    "    backpack.reanimate()\n",
    "\n",
    "    backpack.mutate()\n",
    "\n",
    "    backpack.reanimate()\n",
    "\n",
    "    #backpack.local_upgrade()\n",
    "\n",
    "    backpack.leave_best_offsprings()\n",
    "\n",
    "    print('Iteration #{}\\n'.format(i+1))\n",
    "    print(backpack)\n"
   ]
  },
  {
   "cell_type": "code",
   "execution_count": 217,
   "metadata": {},
   "outputs": [],
   "source": [
    "L = 75\n",
    "P = np.random.randint(5, 30, L)\n",
    "W = np.random.randint(2, 25, L)\n",
    "w = int(L * 0.3 * W.mean())\n",
    "N = int(0.666 * L)"
   ]
  },
  {
   "cell_type": "code",
   "execution_count": 218,
   "metadata": {},
   "outputs": [
    {
     "data": {
      "text/plain": [
       "49"
      ]
     },
     "execution_count": 218,
     "metadata": {},
     "output_type": "execute_result"
    }
   ],
   "source": [
    "N"
   ]
  },
  {
   "cell_type": "code",
   "execution_count": 4,
   "metadata": {},
   "outputs": [
    {
     "data": {
      "text/plain": [
       "(297,\n",
       " array([26, 29, 27, 20, 25, 23, 17, 28, 22,  9, 27, 24, 15,  9, 15, 11, 25,\n",
       "        20, 28, 20, 26, 23, 17, 10, 16, 29,  9, 11,  8,  7, 11,  5, 21, 16,\n",
       "        21,  7, 13, 11,  8, 25, 22,  6, 20, 12, 16, 21, 25, 12,  5, 27, 19,\n",
       "         9, 21, 17, 20, 22,  9, 17,  6, 26, 11, 13,  5, 20, 28, 12,  7, 15,\n",
       "         8, 12, 13, 22, 16, 27, 15]),\n",
       " array([ 2,  5, 19,  9, 14,  7,  9, 24,  2, 15, 21, 10,  9, 22,  9, 12, 17,\n",
       "         9, 14,  7,  9, 24, 16,  7, 17,  2,  9, 24, 11,  6,  9,  9, 10, 10,\n",
       "        18,  3, 17,  7, 15, 16, 18,  5,  3, 18, 19, 23, 13, 14, 17, 18,  9,\n",
       "        24,  6, 16,  8,  3, 15, 20, 12, 23, 19, 21, 13,  9, 22, 18, 23,  4,\n",
       "        19,  9, 15, 14, 15,  9, 22]))"
      ]
     },
     "execution_count": 4,
     "metadata": {},
     "output_type": "execute_result"
    }
   ],
   "source": [
    "w, P, W"
   ]
  },
  {
   "cell_type": "code",
   "execution_count": 5,
   "metadata": {},
   "outputs": [],
   "source": [
    "stats_recorder = []"
   ]
  },
  {
   "cell_type": "code",
   "execution_count": 6,
   "metadata": {},
   "outputs": [],
   "source": [
    "backpack = Backpack(W, P, w, N)\n",
    "backpack.initial_generate_offsprings()\n",
    "#print('Starting state')\n",
    "stats_recorder.append(backpack.generation_stats())\n",
    "#print(stats_recorder[0])\n",
    "\n",
    "for i in range(20):\n",
    "    backpack.generate_offsprings()\n",
    "\n",
    "    backpack.reanimate()\n",
    "\n",
    "    backpack.mutate()\n",
    "\n",
    "    backpack.reanimate()\n",
    "\n",
    "    backpack.local_upgrade()\n",
    "\n",
    "    backpack.leave_best_offsprings()\n",
    "\n",
    "    #print('Iteration #{}\\n'.format(i+1))\n",
    "    stats_recorder.append(backpack.generation_stats())\n",
    "#    print(stats_recorder[i+1])\n"
   ]
  },
  {
   "cell_type": "code",
   "execution_count": 7,
   "metadata": {},
   "outputs": [],
   "source": [
    "import matplotlib.pyplot as plt\n",
    "%matplotlib inline"
   ]
  },
  {
   "cell_type": "code",
   "execution_count": 8,
   "metadata": {},
   "outputs": [
    {
     "data": {
      "image/png": "[encoded data removed]",
      "text/plain": [
       "<Figure size 432x288 with 1 Axes>"
      ]
     },
     "metadata": {
      "needs_background": "light"
     },
     "output_type": "display_data"
    }
   ],
   "source": [
    "avg_prices = []\n",
    "min_prices = []\n",
    "max_prices = []\n",
    "for i in stats_recorder[1:]:\n",
    "    avg_prices.append(i['avg_price'])\n",
    "    min_prices.append(i['min_price'])\n",
    "    max_prices.append(i['max_price'])\n",
    "    \n",
    "plt.plot(avg_prices);\n",
    "plt.plot(min_prices);\n",
    "plt.plot(max_prices);\n",
    "plt.title('Залежність рішення від кількості ітерацій')\n",
    "plt.xlabel('Iteration')\n",
    "plt.ylabel('Price of backpack')\n",
    "plt.xticks(range(20))\n",
    "plt.legend(['avg', 'min', 'max']);"
   ]
  },
  {
   "cell_type": "code",
   "execution_count": 14,
   "metadata": {},
   "outputs": [
    {
     "data": {
      "image/png": "[encoded data removed]",
      "text/plain": [
       "<Figure size 432x288 with 1 Axes>"
      ]
     },
     "metadata": {
      "needs_background": "light"
     },
     "output_type": "display_data"
    }
   ],
   "source": [
    "plt.hist(stats_recorder[19]['metrics'], density=True, bins=7, rwidth=0.8)\n",
    "plt.title('Розподіл рішень на фінальній ітерації')\n",
    "plt.ylabel('Кількість (у відсотках)')\n",
    "plt.xlabel('Цінність рюкзаку');"
   ]
  },
  {
   "cell_type": "code",
   "execution_count": 42,
   "metadata": {},
   "outputs": [],
   "source": [
    "def vector_to_int(vect):\n",
    "    m = np.geomspace(1, 2**(len(vect) - 1), len(vect))\n",
    "    return int(np.ceil((vect * m).sum()))"
   ]
  },
  {
   "cell_type": "code",
   "execution_count": 169,
   "metadata": {},
   "outputs": [],
   "source": [
    "L = 5\n",
    "P = np.random.randint(5, 10, L)\n",
    "W = np.random.randint(2, 5, L)\n",
    "w = 40\n",
    "N = 1\n",
    "\n",
    "import itertools\n",
    "lst = list(itertools.product([0, 1], repeat=L))\n",
    "history = []\n",
    "func_val = []\n",
    "\n",
    "for i in lst:\n",
    "    func_val.append(vector_to_int(i))\n"
   ]
  },
  {
   "cell_type": "code",
   "execution_count": 170,
   "metadata": {},
   "outputs": [],
   "source": [
    "backpack = Backpack(W, P, w, N)\n",
    "backpack.initial_generate_offsprings()\n",
    "history = []\n",
    "history_values = []\n",
    "\n",
    "for i in range(5):\n",
    "    backpack.generate_offsprings()\n",
    "\n",
    "    backpack.reanimate()\n",
    "\n",
    "    backpack.mutate()\n",
    "\n",
    "    backpack.reanimate()\n",
    "\n",
    "    #backpack.local_upgrade()\n",
    "    \n",
    "\n",
    "    backpack.leave_best_offsprings()\n",
    "    #print([off.X for off in backpack.offsprings])\n",
    "    history.append(\n",
    "        [vector_to_int(off.X) for off in backpack.offsprings]\n",
    "    )\n",
    "    \n",
    "    history_values.append(\n",
    "        [i.count_metrics(backpack.P) for i in backpack.offsprings]\n",
    "    )\n",
    "\n",
    "    #print('Iteration #{}\\n'.format(i+1))\n",
    "    #print(backpack)\n"
   ]
  },
  {
   "cell_type": "code",
   "execution_count": 198,
   "metadata": {},
   "outputs": [
    {
     "data": {
      "image/png": "[encoded data removed]",
      "text/plain": [
       "<Figure size 432x288 with 1 Axes>"
      ]
     },
     "metadata": {
      "needs_background": "light"
     },
     "output_type": "display_data"
    }
   ],
   "source": [
    "plt.plot(func_val)\n",
    "plt.plot(history, history_values, marker='o', linestyle='--')\n",
    "plt.legend(['Значення різних комбінацій збору рюкзака', 'Історія']);\n",
    "#plt.xlim([min(history[0]),max(history[0])+10])"
   ]
  },
  {
   "cell_type": "code",
   "execution_count": 151,
   "metadata": {},
   "outputs": [
    {
     "data": {
      "text/plain": [
       "array([30])"
      ]
     },
     "execution_count": 151,
     "metadata": {},
     "output_type": "execute_result"
    }
   ],
   "source": [
    "np.unique(history)"
   ]
  },
  {
   "cell_type": "code",
   "execution_count": 112,
   "metadata": {},
   "outputs": [
    {
     "data": {
      "text/plain": [
       "[[16, 22, 26], [22, 26, 26], [22, 26, 26]]"
      ]
     },
     "execution_count": 112,
     "metadata": {},
     "output_type": "execute_result"
    }
   ],
   "source": []
  },
  {
   "cell_type": "code",
   "execution_count": null,
   "metadata": {},
   "outputs": [],
   "source": []
  }
 ],
 "metadata": {
  "kernelspec": {
   "display_name": "Python 3",
   "language": "python",
   "name": "python3"
  },
  "language_info": {
   "codemirror_mode": {
    "name": "ipython",
    "version": 3
   },
   "file_extension": ".py",
   "mimetype": "text/x-python",
   "name": "python",
   "nbconvert_exporter": "python",
   "pygments_lexer": "ipython3",
   "version": "3.7.5"
  }
 },
 "nbformat": 4,
 "nbformat_minor": 4
}
